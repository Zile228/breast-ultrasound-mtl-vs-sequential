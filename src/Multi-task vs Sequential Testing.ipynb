{
 "cells": [
  {
   "cell_type": "code",
   "execution_count": 1,
   "id": "2a0cf1e7",
   "metadata": {},
   "outputs": [],
   "source": [
    "import numpy as np\n",
    "import pandas as pd\n",
    "from scipy.stats import shapiro, mannwhitneyu, ttest_ind, kruskal\n",
    "from statsmodels.stats.multicomp import pairwise_tukeyhsd\n",
    "import scikit_posthocs as sp"
   ]
  },
  {
   "cell_type": "code",
   "execution_count": 2,
   "id": "eee290bf",
   "metadata": {},
   "outputs": [],
   "source": [
    "MTL_ConV_Capsnet = pd.read_excel(r\"D:\\1_Nguyễn Duy Tân\\UEH\\TEAM PỂ\\MTL\\MTL_ConV-Capsnet.xlsx\", sheet_name='Sheet1', header=0)\n",
    "MTL_ConV_FC = pd.read_excel(r\"D:\\1_Nguyễn Duy Tân\\UEH\\TEAM PỂ\\MTL\\MTL_ConV-FC.xlsx\", sheet_name='Sheet1', header=0)\n",
    "MTL_Deform_Capsnet = pd.read_excel(r\"D:\\1_Nguyễn Duy Tân\\UEH\\TEAM PỂ\\MTL\\MTL_Deform-Capsnet.xlsx\", sheet_name='Sheet1', header=0)\n",
    "MTL_Deform_FC = pd.read_excel(r\"D:\\1_Nguyễn Duy Tân\\UEH\\TEAM PỂ\\MTL\\MTL_Deform-FC.xlsx\", sheet_name='Sheet1', header=0)\n",
    "\n",
    "MTL_ConV_Capsnet = MTL_ConV_Capsnet.loc[:,['Dice','F1-Score','Inference_Time','Accuracy']]\n",
    "MTL_ConV_FC = MTL_ConV_FC.loc[:,['Dice','F1-Score','Inference_Time','Accuracy']]\n",
    "MTL_Deform_Capsnet = MTL_Deform_Capsnet.loc[:,['Dice','F1-Score','Inference_Time','Accuracy']]\n",
    "MTL_Deform_FC = MTL_Deform_FC.loc[:,['Dice','F1-Score','Inference_Time', 'Accuracy']]\n",
    "\n",
    "ST_ConV_Capsnet = pd.read_excel(r\"D:\\1_Nguyễn Duy Tân\\UEH\\TEAM PỂ\\ST\\ST_ConV-Capsnet.xlsx\", sheet_name='Sheet1', header=0)\n",
    "ST_ConV_FC = pd.read_excel(r\"D:\\1_Nguyễn Duy Tân\\UEH\\TEAM PỂ\\ST\\ST_ConV-FC.xlsx\", sheet_name='Sheet1', header=0)\n",
    "ST_Deform_Capsnet = pd.read_excel(r\"D:\\1_Nguyễn Duy Tân\\UEH\\TEAM PỂ\\ST\\ST_Deform-Capsnet.xlsx\", sheet_name='Sheet1', header=0)\n",
    "ST_Deform_FC = pd.read_excel(r\"D:\\1_Nguyễn Duy Tân\\UEH\\TEAM PỂ\\ST\\ST_Deform-FC.xlsx\", sheet_name='Sheet1', header=0)\n",
    "\n",
    "ST_ConV_Capsnet = ST_ConV_Capsnet.loc[:,['Dice','F1-Score','Inference_Time','Accuracy']]\n",
    "ST_ConV_FC = ST_ConV_FC.loc[:,['Dice','F1-Score','Inference_Time', 'Accuracy']]\n",
    "ST_Deform_Capsnet = ST_Deform_Capsnet.loc[:,['Dice','F1-Score','Inference_Time', 'Accuracy']]\n",
    "ST_Deform_FC = ST_Deform_FC.loc[:,['Dice','F1-Score','Inference_Time', 'Accuracy']]"
   ]
  },
  {
   "cell_type": "markdown",
   "id": "c4c9ce48",
   "metadata": {},
   "source": [
    "## **SEGMENTATION**"
   ]
  },
  {
   "cell_type": "code",
   "execution_count": 3,
   "id": "ffa00c1b",
   "metadata": {},
   "outputs": [],
   "source": [
    "MTL_Dice = pd.concat([\n",
    "    MTL_ConV_Capsnet['Dice'],\n",
    "    MTL_ConV_FC['Dice'],\n",
    "    MTL_Deform_Capsnet['Dice'],\n",
    "    MTL_Deform_FC['Dice']\n",
    "], ignore_index=True)\n",
    "\n",
    "ST_Dice = pd.concat([\n",
    "    ST_ConV_Capsnet['Dice'],\n",
    "    ST_ConV_FC['Dice'],\n",
    "    ST_Deform_Capsnet['Dice'],\n",
    "    ST_Deform_FC['Dice']\n",
    "], ignore_index=True)\n",
    "\n",
    "# Tạo DataFrame mới\n",
    "df_dice = pd.DataFrame({\n",
    "    'MTL_Dice': MTL_Dice,\n",
    "    'ST_Dice': ST_Dice\n",
    "})\n"
   ]
  },
  {
   "cell_type": "code",
   "execution_count": 4,
   "id": "4a6ab629",
   "metadata": {},
   "outputs": [
    {
     "name": "stdout",
     "output_type": "stream",
     "text": [
      "P-value của kiểm định Shapiro-Wilk cho MTL_Dice: 0.0000\n",
      "P-value của kiểm định Shapiro-Wilk cho ST_Dice: 0.0000\n"
     ]
    }
   ],
   "source": [
    "alpha = 0.05\n",
    "\n",
    "p_mtl_shapiro = shapiro(MTL_Dice)\n",
    "p_st_shapiro = shapiro(ST_Dice)\n",
    "\n",
    "print(f'P-value của kiểm định Shapiro-Wilk cho MTL_Dice: {p_mtl_shapiro.pvalue:.4f}')\n",
    "print(f'P-value của kiểm định Shapiro-Wilk cho ST_Dice: {p_st_shapiro.pvalue:.4f}')"
   ]
  },
  {
   "cell_type": "code",
   "execution_count": 5,
   "id": "7bb2e10c",
   "metadata": {},
   "outputs": [
    {
     "name": "stdout",
     "output_type": "stream",
     "text": [
      "--- Thực hiện kiểm định so sánh giữa ST và MTL ---\n",
      "\n",
      "Có ít nhất một nhóm không tuân theo phân phối chuẩn. Sử dụng Mann-Whitney U Test.\n",
      "U-statistic = 6925.5000, p-value = 0.6104\n"
     ]
    }
   ],
   "source": [
    "print(f\"--- Thực hiện kiểm định so sánh giữa ST và MTL ---\\n\")\n",
    "\n",
    "if p_st_shapiro.pvalue > alpha and p_mtl_shapiro.pvalue > alpha:\n",
    "    print(\"Cả hai nhóm đều tuân theo phân phối chuẩn. Sử dụng Independent Samples t-test.\")\n",
    "    stat, p_value = ttest_ind(ST_Dice, MTL_Dice, equal_var=False) # Welch's t-test\n",
    "    print(f\"t-statistic = {stat:.4f}, p-value = {p_value:.4f}\")\n",
    "else:\n",
    "    print(\"Có ít nhất một nhóm không tuân theo phân phối chuẩn. Sử dụng Mann-Whitney U Test.\")\n",
    "    stat, p_value = mannwhitneyu(ST_Dice, MTL_Dice, alternative='two-sided')\n",
    "    print(f\"U-statistic = {stat:.4f}, p-value = {p_value:.4f}\")\n"
   ]
  },
  {
   "cell_type": "code",
   "execution_count": 6,
   "id": "e7b1526c",
   "metadata": {},
   "outputs": [
    {
     "name": "stdout",
     "output_type": "stream",
     "text": [
      "\n",
      "--- Kết luận cuối cùng ---\n",
      "Không có sự khác biệt ý nghĩa thống kê (p >= 0.05) giữa hiệu suất SEGMENTATION của Single-Task và Multi-Task.\n",
      "Avg_MTL_Dice:\t 0.7134\n",
      "Avg_ST_Dice:\t 0.7053\n"
     ]
    }
   ],
   "source": [
    "print(\"\\n--- Kết luận cuối cùng ---\")\n",
    "if p_value < alpha:\n",
    "    if np.mean(ST_Dice) > np.mean(MTL_Dice):\n",
    "        print(f\"Có sự khác biệt ý nghĩa thống kê (p < {alpha}). Hiệu suất SEGMENTATION của Single-Task tốt hơn Multi-Task.\")\n",
    "    else:\n",
    "        print(f\"Có sự khác biệt ý nghĩa thống kê (p < {alpha}). Hiệu suất SEGMENTATION của Multi-Task tốt hơn Single-Task.\")\n",
    "else:\n",
    "    print(f\"Không có sự khác biệt ý nghĩa thống kê (p >= {alpha}) giữa hiệu suất SEGMENTATION của Single-Task và Multi-Task.\")\n",
    "\n",
    "print(f'Avg_MTL_Dice:\\t {np.mean(MTL_Dice):.4f}')\n",
    "print(f'Avg_ST_Dice:\\t {np.mean(ST_Dice):.4f}')"
   ]
  },
  {
   "cell_type": "markdown",
   "id": "5484127d",
   "metadata": {},
   "source": [
    "## **CLASSIFICATION**"
   ]
  },
  {
   "cell_type": "code",
   "execution_count": 7,
   "id": "c7c8bc5b",
   "metadata": {},
   "outputs": [],
   "source": [
    "MTL_F1 = pd.concat([\n",
    "    MTL_ConV_Capsnet['F1-Score'],\n",
    "    MTL_ConV_FC['F1-Score'],\n",
    "    MTL_Deform_Capsnet['F1-Score'],\n",
    "    MTL_Deform_FC['F1-Score']\n",
    "], ignore_index=True)\n",
    "\n",
    "ST_F1 = pd.concat([\n",
    "    ST_ConV_Capsnet['F1-Score'],\n",
    "    ST_ConV_FC['F1-Score'],\n",
    "    ST_Deform_Capsnet['F1-Score'],\n",
    "    ST_Deform_FC['F1-Score']\n",
    "], ignore_index=True)\n",
    "\n",
    "# Tạo DataFrame mới\n",
    "df_dice = pd.DataFrame({\n",
    "    'MTL_F1': MTL_F1,\n",
    "    'ST_F1': ST_F1\n",
    "})\n"
   ]
  },
  {
   "cell_type": "code",
   "execution_count": 8,
   "id": "6d6e6c68",
   "metadata": {},
   "outputs": [
    {
     "name": "stdout",
     "output_type": "stream",
     "text": [
      "P-value của kiểm định Shapiro-Wilk cho MTL_Dice: 0.0091\n",
      "P-value của kiểm định Shapiro-Wilk cho ST_Dice: 0.0000\n"
     ]
    }
   ],
   "source": [
    "alpha = 0.05\n",
    "\n",
    "p_mtl_shapiro = shapiro(MTL_F1)\n",
    "p_st_shapiro = shapiro(ST_F1)\n",
    "\n",
    "print(f'P-value của kiểm định Shapiro-Wilk cho MTL_Dice: {p_mtl_shapiro.pvalue:.4f}')\n",
    "print(f'P-value của kiểm định Shapiro-Wilk cho ST_Dice: {p_st_shapiro.pvalue:.4f}')"
   ]
  },
  {
   "cell_type": "code",
   "execution_count": 9,
   "id": "fb2cdba8",
   "metadata": {},
   "outputs": [
    {
     "name": "stdout",
     "output_type": "stream",
     "text": [
      "--- Thực hiện kiểm định so sánh giữa ST và MTL ---\n",
      "\n",
      "Có ít nhất một nhóm không tuân theo phân phối chuẩn. Sử dụng Mann-Whitney U Test.\n",
      "U-statistic = 39.0000, p-value = 0.0000\n"
     ]
    }
   ],
   "source": [
    "print(f\"--- Thực hiện kiểm định so sánh giữa ST và MTL ---\\n\")\n",
    "\n",
    "if p_st_shapiro.pvalue > alpha and p_mtl_shapiro.pvalue > alpha:\n",
    "    print(\"Cả hai nhóm đều tuân theo phân phối chuẩn. Sử dụng Independent Samples t-test.\")\n",
    "    stat, p_value = ttest_ind(ST_F1, MTL_F1, equal_var=False) # Welch's t-test\n",
    "    print(f\"t-statistic = {stat:.4f}, p-value = {p_value:.4f}\")\n",
    "else:\n",
    "    print(\"Có ít nhất một nhóm không tuân theo phân phối chuẩn. Sử dụng Mann-Whitney U Test.\")\n",
    "    stat, p_value = mannwhitneyu(ST_F1, MTL_F1, alternative='two-sided')\n",
    "    print(f\"U-statistic = {stat:.4f}, p-value = {p_value:.4f}\")\n"
   ]
  },
  {
   "cell_type": "code",
   "execution_count": 10,
   "id": "57819deb",
   "metadata": {},
   "outputs": [
    {
     "name": "stdout",
     "output_type": "stream",
     "text": [
      "\n",
      "--- Kết luận cuối cùng ---\n",
      "Có sự khác biệt ý nghĩa thống kê (p < 0.05). Hiệu suất CLASSIFICATION của Multi-Task tốt hơn Single-Task.\n",
      "Avg_MTL_F1:\t 0.8529\n",
      "Avg_ST_F1:\t 0.6190\n"
     ]
    }
   ],
   "source": [
    "print(\"\\n--- Kết luận cuối cùng ---\")\n",
    "if p_value < alpha:\n",
    "    if np.mean(ST_F1) > np.mean(MTL_F1):\n",
    "        print(f\"Có sự khác biệt ý nghĩa thống kê (p < {alpha}). Hiệu suất CLASSIFICATION của Single-Task tốt hơn Multi-Task.\")\n",
    "    else:\n",
    "        print(f\"Có sự khác biệt ý nghĩa thống kê (p < {alpha}). Hiệu suất CLASSIFICATION của Multi-Task tốt hơn Single-Task.\")\n",
    "else:\n",
    "    print(f\"Không có sự khác biệt ý nghĩa thống kê (p >= {alpha}) giữa hiệu suất CLASSIFICATION của Single-Task và Multi-Task.\")\n",
    "    \n",
    "print(f'Avg_MTL_F1:\\t {np.mean(MTL_F1):.4f}')\n",
    "print(f'Avg_ST_F1:\\t {np.mean(ST_F1):.4f}')"
   ]
  },
  {
   "cell_type": "markdown",
   "id": "aeffdb3d",
   "metadata": {},
   "source": [
    "## **Inference Time**"
   ]
  },
  {
   "cell_type": "code",
   "execution_count": 11,
   "id": "76d2ad2f",
   "metadata": {},
   "outputs": [
    {
     "name": "stdout",
     "output_type": "stream",
     "text": [
      "P-value của kiểm định Shapiro-Wilk cho MTL_Dice: 0.0000\n",
      "P-value của kiểm định Shapiro-Wilk cho ST_Dice: 0.0000\n",
      "--- Thực hiện kiểm định so sánh giữa ST và MTL ---\n",
      "\n",
      "Có ít nhất một nhóm không tuân theo phân phối chuẩn. Sử dụng Mann-Whitney U Test.\n",
      "U-statistic = 4330.0000, p-value = 0.0000\n",
      "\n",
      "--- Kết luận cuối cùng ---\n",
      "Có sự khác biệt ý nghĩa thống kê (p < 0.05). Thời gian thực hiện của Single-Task tốt hơn Multi-Task.\n",
      "Avg_MTL_Time:\t 0.0658\n",
      "Avg_ST_Time:\t 0.0305\n"
     ]
    }
   ],
   "source": [
    "MTL_Time = pd.concat([\n",
    "    MTL_ConV_Capsnet['Inference_Time'],\n",
    "    MTL_ConV_FC['Inference_Time'],\n",
    "    MTL_Deform_Capsnet['Inference_Time'],\n",
    "    MTL_Deform_FC['Inference_Time']\n",
    "], ignore_index=True)\n",
    "\n",
    "ST_Time = pd.concat([\n",
    "    ST_ConV_Capsnet['Inference_Time'],\n",
    "    ST_ConV_FC['Inference_Time'],\n",
    "    ST_Deform_Capsnet['Inference_Time'],\n",
    "    ST_Deform_FC['Inference_Time']\n",
    "], ignore_index=True)\n",
    "\n",
    "\n",
    "alpha = 0.05\n",
    "\n",
    "p_mtl_shapiro = shapiro(MTL_Time)\n",
    "p_st_shapiro = shapiro(ST_Time)\n",
    "\n",
    "print(f'P-value của kiểm định Shapiro-Wilk cho MTL_Dice: {p_mtl_shapiro.pvalue:.4f}')\n",
    "print(f'P-value của kiểm định Shapiro-Wilk cho ST_Dice: {p_st_shapiro.pvalue:.4f}')\n",
    "\n",
    "print(f\"--- Thực hiện kiểm định so sánh giữa ST và MTL ---\\n\")\n",
    "\n",
    "if p_st_shapiro.pvalue > alpha and p_mtl_shapiro.pvalue > alpha:\n",
    "    print(\"Cả hai nhóm đều tuân theo phân phối chuẩn. Sử dụng Independent Samples t-test.\")\n",
    "    stat, p_value = ttest_ind(ST_Time, MTL_Time, equal_var=False) # Welch's t-test\n",
    "    print(f\"t-statistic = {stat:.4f}, p-value = {p_value:.4f}\")\n",
    "else:\n",
    "    print(\"Có ít nhất một nhóm không tuân theo phân phối chuẩn. Sử dụng Mann-Whitney U Test.\")\n",
    "    stat, p_value = mannwhitneyu(ST_Time, MTL_Time, alternative='two-sided')\n",
    "    print(f\"U-statistic = {stat:.4f}, p-value = {p_value:.4f}\")\n",
    "\n",
    "print(\"\\n--- Kết luận cuối cùng ---\")\n",
    "if p_value < alpha:\n",
    "    if np.mean(ST_Time) < np.mean(MTL_Time):\n",
    "        print(f\"Có sự khác biệt ý nghĩa thống kê (p < {alpha}). Thời gian thực hiện của Single-Task tốt hơn Multi-Task.\")\n",
    "    else:\n",
    "        print(f\"Có sự khác biệt ý nghĩa thống kê (p < {alpha}). Thời gian thực hiện của Multi-Task tốt hơn Single-Task.\")\n",
    "else:\n",
    "    print(f\"Không có sự khác biệt ý nghĩa thống kê (p >= {alpha}) giữa Thời gian thực hiện của Single-Task và Multi-Task.\")\n",
    "    \n",
    "print(f'Avg_MTL_Time:\\t {np.mean(MTL_Time):.4f}')\n",
    "print(f'Avg_ST_Time:\\t {np.mean(ST_Time):.4f}')"
   ]
  },
  {
   "cell_type": "markdown",
   "id": "7b8582f5",
   "metadata": {},
   "source": [
    "## **Accuracy**"
   ]
  },
  {
   "cell_type": "code",
   "execution_count": 12,
   "id": "76d36244",
   "metadata": {},
   "outputs": [
    {
     "name": "stdout",
     "output_type": "stream",
     "text": [
      "P-value của kiểm định Shapiro-Wilk cho MTL_Dice: 0.2780\n",
      "P-value của kiểm định Shapiro-Wilk cho ST_Dice: 0.0002\n",
      "--- Thực hiện kiểm định so sánh giữa ST và MTL ---\n",
      "\n",
      "Có ít nhất một nhóm không tuân theo phân phối chuẩn. Sử dụng Mann-Whitney U Test.\n",
      "U-statistic = 21.0000, p-value = 0.0000\n",
      "\n",
      "--- Kết luận cuối cùng ---\n",
      "Có sự khác biệt ý nghĩa thống kê (p < 0.05). Hiệu suất CLASSIFICATION của Multi-Task tốt hơn Single-Task.\n",
      "Avg_MTL_Acc:\t 0.8531\n",
      "Avg_ST_Acc:\t 0.6196\n"
     ]
    }
   ],
   "source": [
    "MTL_Acc = pd.concat([\n",
    "    MTL_ConV_Capsnet['Accuracy'],\n",
    "    MTL_ConV_FC['Accuracy'],\n",
    "    MTL_Deform_Capsnet['Accuracy'],\n",
    "    MTL_Deform_FC['Accuracy']\n",
    "], ignore_index=True)\n",
    "\n",
    "ST_Acc = pd.concat([\n",
    "    ST_ConV_Capsnet['Accuracy'],\n",
    "    ST_ConV_FC['Accuracy'],\n",
    "    ST_Deform_Capsnet['Accuracy'],\n",
    "    ST_Deform_FC['Accuracy']\n",
    "], ignore_index=True)\n",
    "\n",
    "\n",
    "alpha = 0.05\n",
    "\n",
    "p_mtl_shapiro = shapiro(MTL_Acc)\n",
    "p_st_shapiro = shapiro(ST_Acc)\n",
    "\n",
    "print(f'P-value của kiểm định Shapiro-Wilk cho MTL_Dice: {p_mtl_shapiro.pvalue:.4f}')\n",
    "print(f'P-value của kiểm định Shapiro-Wilk cho ST_Dice: {p_st_shapiro.pvalue:.4f}')\n",
    "\n",
    "print(f\"--- Thực hiện kiểm định so sánh giữa ST và MTL ---\\n\")\n",
    "\n",
    "if p_st_shapiro.pvalue > alpha and p_mtl_shapiro.pvalue > alpha:\n",
    "    print(\"Cả hai nhóm đều tuân theo phân phối chuẩn. Sử dụng Independent Samples t-test.\")\n",
    "    stat, p_value = ttest_ind(ST_Acc, MTL_Acc, equal_var=False) # Welch's t-test\n",
    "    print(f\"t-statistic = {stat:.4f}, p-value = {p_value:.4f}\")\n",
    "else:\n",
    "    print(\"Có ít nhất một nhóm không tuân theo phân phối chuẩn. Sử dụng Mann-Whitney U Test.\")\n",
    "    stat, p_value = mannwhitneyu(ST_Acc, MTL_Acc, alternative='two-sided')\n",
    "    print(f\"U-statistic = {stat:.4f}, p-value = {p_value:.4f}\")\n",
    "\n",
    "print(\"\\n--- Kết luận cuối cùng ---\")\n",
    "if p_value < alpha:\n",
    "    if np.mean(ST_Acc) > np.mean(MTL_Acc):\n",
    "        print(f\"Có sự khác biệt ý nghĩa thống kê (p < {alpha}). Hiệu suất CLASSIFICATION của Single-Task tốt hơn Multi-Task.\")\n",
    "    else:\n",
    "        print(f\"Có sự khác biệt ý nghĩa thống kê (p < {alpha}). Hiệu suất CLASSIFICATION của Multi-Task tốt hơn Single-Task.\")\n",
    "else:\n",
    "    print(f\"Không có sự khác biệt ý nghĩa thống kê (p >= {alpha}) giữa Thời gian thực hiện của Single-Task và Multi-Task.\")\n",
    "    \n",
    "print(f'Avg_MTL_Acc:\\t {np.mean(MTL_Acc):.4f}')\n",
    "print(f'Avg_ST_Acc:\\t {np.mean(ST_Acc):.4f}')"
   ]
  }
 ],
 "metadata": {
  "kernelspec": {
   "display_name": "Python 3",
   "language": "python",
   "name": "python3"
  },
  "language_info": {
   "codemirror_mode": {
    "name": "ipython",
    "version": 3
   },
   "file_extension": ".py",
   "mimetype": "text/x-python",
   "name": "python",
   "nbconvert_exporter": "python",
   "pygments_lexer": "ipython3",
   "version": "3.12.10"
  }
 },
 "nbformat": 4,
 "nbformat_minor": 5
}
